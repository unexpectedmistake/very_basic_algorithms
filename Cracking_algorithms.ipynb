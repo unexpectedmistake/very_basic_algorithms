{
 "cells": [
  {
   "cell_type": "markdown",
   "id": "4212e603",
   "metadata": {},
   "source": [
    "### Intro to algorithms"
   ]
  },
  {
   "cell_type": "markdown",
   "id": "7dbccb75",
   "metadata": {},
   "source": [
    "#### 1. Binary search"
   ]
  },
  {
   "cell_type": "markdown",
   "id": "593f7ddc",
   "metadata": {},
   "source": [
    "Every time a half of values from a sorted list is excluded. <br/>\n",
    "Binary search is carried out by $log_{2}n$ steps.\n"
   ]
  },
  {
   "cell_type": "markdown",
   "id": "c1fca9e6",
   "metadata": {},
   "source": [
    "Big O(n) notation describes the speed of an algorithm, where *n* is a number of operations. <br/>\n",
    "For binary search algorithm: $ O(log_{2}n)$"
   ]
  },
  {
   "cell_type": "code",
   "execution_count": 118,
   "id": "3a4a2a54",
   "metadata": {},
   "outputs": [],
   "source": [
    "def binary_search(array, n):\n",
    "    low_value = 0\n",
    "    high_value = len(array)-1\n",
    "    \n",
    "    while low_value <= high_value:\n",
    "        mid = (low_value + high_value) // 2\n",
    "        if array[mid] == n:\n",
    "            return f'Look up value index : {mid}'\n",
    "        elif array[mid] > n:\n",
    "            high_value = mid - 1\n",
    "        else:\n",
    "            low_value = mid + 1\n",
    "    return 'No such value in an array'"
   ]
  },
  {
   "cell_type": "code",
   "execution_count": 123,
   "id": "861600b6",
   "metadata": {},
   "outputs": [
    {
     "data": {
      "text/plain": [
       "'Look up value index : 4'"
      ]
     },
     "execution_count": 123,
     "metadata": {},
     "output_type": "execute_result"
    }
   ],
   "source": [
    "a = [1, 4, 5, 7, 8, 100, 1000]\n",
    "binary_search(a, 8)"
   ]
  },
  {
   "cell_type": "code",
   "execution_count": null,
   "id": "66f03e9e",
   "metadata": {},
   "outputs": [],
   "source": []
  }
 ],
 "metadata": {
  "kernelspec": {
   "display_name": "Python 3 (ipykernel)",
   "language": "python",
   "name": "python3"
  },
  "language_info": {
   "codemirror_mode": {
    "name": "ipython",
    "version": 3
   },
   "file_extension": ".py",
   "mimetype": "text/x-python",
   "name": "python",
   "nbconvert_exporter": "python",
   "pygments_lexer": "ipython3",
   "version": "3.9.7"
  }
 },
 "nbformat": 4,
 "nbformat_minor": 5
}
